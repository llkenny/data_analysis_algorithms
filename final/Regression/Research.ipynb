{
 "cells": [
  {
   "cell_type": "markdown",
   "metadata": {},
   "source": [
    "Задача: определиться с моделью.\n",
    "<br>На выбор:\n",
    "- решающее дерево\n",
    "- случайный лес\n",
    "- градиентный бустинг\n",
    "- AdaBoost"
   ]
  },
  {
   "cell_type": "code",
   "execution_count": 1,
   "metadata": {},
   "outputs": [],
   "source": [
    "import numpy as np\n",
    "import pandas as pd\n",
    "from sklearn.model_selection import train_test_split\n",
    "import matplotlib.pyplot as plt\n",
    "import seaborn as sns\n",
    "from sklearn.metrics import r2_score\n",
    "\n",
    "TRAIN_DATASET_PATH = 'csv/train.csv'\n",
    "df = pd.read_csv(TRAIN_DATASET_PATH)\n",
    "\n",
    "x = df.drop(columns=[\"Id\", \"mean_exam_points\"])\n",
    "y = df[\"mean_exam_points\"]\n",
    "\n",
    "X_train, X_test, y_train, y_test = train_test_split(x, y, test_size=0.33, random_state=100)"
   ]
  },
  {
   "cell_type": "markdown",
   "metadata": {},
   "source": [
    "### Решающее дерево"
   ]
  },
  {
   "cell_type": "code",
   "execution_count": 2,
   "metadata": {},
   "outputs": [
    {
     "name": "stdout",
     "output_type": "stream",
     "text": [
      "Depth 2: 0.540859516630043 / 0.542477475538185\n",
      "Depth 3: 0.5975892566092703 / 0.5944864118343338\n",
      "Depth 4: 0.6390824490006198 / 0.6287723354672998\n",
      "Depth 5: 0.6461577667269558 / 0.6468144358891845\n",
      "Depth 6: 0.6461643524717903 / 0.6651002773104269\n",
      "Depth 7: 0.6383711556131098 / 0.6760920702487212\n",
      "Depth 8: 0.6295098341252293 / 0.6915788427173999\n",
      "Depth 9: 0.6047584316287744 / 0.7112257408472555\n",
      "Depth 10: 0.5803579457162789 / 0.7326255108389745\n",
      "Depth 11: 0.5661994640443634 / 0.7535321691867493\n",
      "Depth 12: 0.5331255859586529 / 0.7765902606674173\n",
      "Depth 13: 0.5206189064838511 / 0.7997891660015001\n",
      "Depth 14: 0.48761906531490307 / 0.8237032611065709\n",
      "Depth 15: 0.46647249771147725 / 0.8467032699037617\n",
      "Depth 16: 0.44133483969383713 / 0.867590775004047\n",
      "Depth 17: 0.42831021531967584 / 0.8872705878318086\n",
      "Depth 18: 0.4143039678417314 / 0.9031116196694262\n",
      "Depth 19: 0.3923138823899638 / 0.9182855343214249\n"
     ]
    }
   ],
   "source": [
    "from sklearn.tree import DecisionTreeRegressor\n",
    "\n",
    "max_depth_arr = np.arange(2, 20)\n",
    "\n",
    "accuracy_test = []\n",
    "accuracy_train = []\n",
    "for val in max_depth_arr:\n",
    "    clf = DecisionTreeRegressor(max_depth=val, random_state=100)\n",
    "    clf.fit(X_train, y_train)\n",
    "    y_pred = clf.predict(X_test)\n",
    "    y_pred_train = clf.predict(X_train)\n",
    "    acc_test = r2_score(y_test, y_pred)\n",
    "    acc_train = r2_score(y_train, y_pred_train)\n",
    "    accuracy_test.append(acc_test)\n",
    "    accuracy_train.append(acc_train)\n",
    "    \n",
    "    print(f'Depth {val}: {acc_test} / {acc_train}')"
   ]
  },
  {
   "cell_type": "code",
   "execution_count": 3,
   "metadata": {},
   "outputs": [
    {
     "data": {
      "text/plain": [
       "[<matplotlib.lines.Line2D at 0x7f86ef7718b0>]"
      ]
     },
     "execution_count": 3,
     "metadata": {},
     "output_type": "execute_result"
    },
    {
     "data": {
      "image/png": "[encoded data removed]",
      "text/plain": [
       "<Figure size 432x288 with 1 Axes>"
      ]
     },
     "metadata": {
      "needs_background": "light"
     },
     "output_type": "display_data"
    }
   ],
   "source": [
    "plt.plot(max_depth_arr, accuracy_test)\n",
    "plt.plot(max_depth_arr, accuracy_train)"
   ]
  },
  {
   "cell_type": "markdown",
   "metadata": {},
   "source": [
    "Оптимальный результат с глубиной дерева 5 = 0.6461577667269558 / 0.6468144358891845"
   ]
  },
  {
   "cell_type": "markdown",
   "metadata": {},
   "source": [
    "### Случайный лес"
   ]
  },
  {
   "cell_type": "code",
   "execution_count": 7,
   "metadata": {},
   "outputs": [
    {
     "data": {
      "text/plain": [
       "GridSearchCV(cv=5, estimator=RandomForestRegressor(random_state=100),\n",
       "             param_grid=[{'max_depth': array([ 2,  3,  4,  5,  6,  7,  8,  9, 10, 11, 12, 13, 14]),\n",
       "                          'max_features': array([2, 3, 4, 5, 6, 7, 8, 9]),\n",
       "                          'n_estimators': array([ 50, 100, 150, 200, 250])}],\n",
       "             scoring='r2')"
      ]
     },
     "execution_count": 7,
     "metadata": {},
     "output_type": "execute_result"
    }
   ],
   "source": [
    "from sklearn.ensemble import RandomForestRegressor\n",
    "from sklearn.model_selection import GridSearchCV\n",
    "\n",
    "parameters = [{'n_estimators': np.arange(50, 300, 50),\n",
    "              'max_features': np.arange(2, 10),\n",
    "              'max_depth': np.arange(2, 15)}]\n",
    "\n",
    "clf = GridSearchCV(estimator=RandomForestRegressor(random_state=100),\n",
    "                  param_grid=parameters,\n",
    "                  scoring='r2',\n",
    "                  cv=5)\n",
    "clf.fit(X_train, y_train)"
   ]
  },
  {
   "cell_type": "code",
   "execution_count": 8,
   "metadata": {},
   "outputs": [
    {
     "data": {
      "text/plain": [
       "RandomForestRegressor(max_depth=7, max_features=9, n_estimators=150,\n",
       "                      random_state=100)"
      ]
     },
     "execution_count": 8,
     "metadata": {},
     "output_type": "execute_result"
    }
   ],
   "source": [
    "clf.best_estimator_"
   ]
  },
  {
   "cell_type": "code",
   "execution_count": 9,
   "metadata": {},
   "outputs": [
    {
     "data": {
      "text/plain": [
       "0.6515762494048711"
      ]
     },
     "execution_count": 9,
     "metadata": {},
     "output_type": "execute_result"
    }
   ],
   "source": [
    "clf.best_score_"
   ]
  },
  {
   "cell_type": "code",
   "execution_count": 10,
   "metadata": {},
   "outputs": [
    {
     "data": {
      "text/plain": [
       "(0.6629965688247158, 0.6881439312801216)"
      ]
     },
     "execution_count": 10,
     "metadata": {},
     "output_type": "execute_result"
    }
   ],
   "source": [
    "rfr = RandomForestRegressor(max_depth=7, max_features=9, n_estimators=150, random_state=100)\n",
    "rfr.fit(X_train, y_train)\n",
    "y_pred = rfr.predict(X_test)\n",
    "y_pred_train = rfr.predict(X_train)\n",
    "acc_test = r2_score(y_test, y_pred)\n",
    "acc_train = r2_score(y_train, y_pred_train)\n",
    "acc_test, acc_train"
   ]
  },
  {
   "cell_type": "markdown",
   "metadata": {},
   "source": [
    "Оптимальный результат со случайным лесом - 0.6629965688247158, 0.6881439312801216. Что не сильно отличается от обычного дерева решений."
   ]
  },
  {
   "cell_type": "markdown",
   "metadata": {},
   "source": [
    "### Gradient Boosting regression"
   ]
  },
  {
   "cell_type": "code",
   "execution_count": 11,
   "metadata": {},
   "outputs": [
    {
     "data": {
      "text/plain": [
       "GridSearchCV(cv=5, estimator=GradientBoostingRegressor(random_state=100),\n",
       "             param_grid=[{'max_depth': array([ 2,  3,  4,  5,  6,  7,  8,  9, 10, 11, 12, 13, 14]),\n",
       "                          'max_features': array([2, 3, 4, 5, 6, 7, 8, 9]),\n",
       "                          'n_estimators': array([ 50, 100, 150, 200, 250])}],\n",
       "             scoring='r2')"
      ]
     },
     "execution_count": 11,
     "metadata": {},
     "output_type": "execute_result"
    }
   ],
   "source": [
    "from sklearn.ensemble import GradientBoostingRegressor\n",
    "\n",
    "parameters = [{'n_estimators': np.arange(50, 300, 50),\n",
    "              'max_features': np.arange(2, 10),\n",
    "              'max_depth': np.arange(2, 15)}]\n",
    "\n",
    "clf = GridSearchCV(estimator=GradientBoostingRegressor(random_state=100),\n",
    "                  param_grid=parameters,\n",
    "                  scoring='r2',\n",
    "                  cv=5)\n",
    "clf.fit(X_train, y_train)"
   ]
  },
  {
   "cell_type": "code",
   "execution_count": 12,
   "metadata": {},
   "outputs": [
    {
     "data": {
      "text/plain": [
       "GradientBoostingRegressor(max_depth=5, max_features=8, n_estimators=50,\n",
       "                          random_state=100)"
      ]
     },
     "execution_count": 12,
     "metadata": {},
     "output_type": "execute_result"
    }
   ],
   "source": [
    "clf.best_estimator_"
   ]
  },
  {
   "cell_type": "code",
   "execution_count": 13,
   "metadata": {},
   "outputs": [
    {
     "data": {
      "text/plain": [
       "0.6478749535991358"
      ]
     },
     "execution_count": 13,
     "metadata": {},
     "output_type": "execute_result"
    }
   ],
   "source": [
    "clf.best_score_"
   ]
  },
  {
   "cell_type": "code",
   "execution_count": 14,
   "metadata": {},
   "outputs": [
    {
     "data": {
      "text/plain": [
       "(0.6614780246715576, 0.688276309150083)"
      ]
     },
     "execution_count": 14,
     "metadata": {},
     "output_type": "execute_result"
    }
   ],
   "source": [
    "rfr = GradientBoostingRegressor(max_depth=5, max_features=8, n_estimators=50, random_state=100)\n",
    "rfr.fit(X_train, y_train)\n",
    "y_pred = rfr.predict(X_test)\n",
    "y_pred_train = rfr.predict(X_train)\n",
    "acc_test = r2_score(y_test, y_pred)\n",
    "acc_train = r2_score(y_train, y_pred_train)\n",
    "acc_test, acc_train"
   ]
  },
  {
   "cell_type": "markdown",
   "metadata": {},
   "source": [
    "Gradient Boosting regression best: 0.6614780246715576, 0.688276309150083\n",
    "<br>Результат такой же или чуть хуже случайного леса"
   ]
  },
  {
   "cell_type": "markdown",
   "metadata": {},
   "source": [
    "### AdaBoostRegressor"
   ]
  },
  {
   "cell_type": "code",
   "execution_count": 17,
   "metadata": {},
   "outputs": [
    {
     "data": {
      "text/plain": [
       "GridSearchCV(cv=5, estimator=AdaBoostRegressor(random_state=100),\n",
       "             param_grid=[{'n_estimators': array([ 50, 100, 150, 200, 250])}],\n",
       "             scoring='r2')"
      ]
     },
     "execution_count": 17,
     "metadata": {},
     "output_type": "execute_result"
    }
   ],
   "source": [
    "from sklearn.ensemble import AdaBoostRegressor\n",
    "\n",
    "parameters = [{'n_estimators': np.arange(50, 300, 50)}]\n",
    "\n",
    "clf = GridSearchCV(estimator=AdaBoostRegressor(random_state=100),\n",
    "                  param_grid=parameters,\n",
    "                  scoring='r2',\n",
    "                  cv=5)\n",
    "clf.fit(X_train, y_train)"
   ]
  },
  {
   "cell_type": "code",
   "execution_count": 18,
   "metadata": {},
   "outputs": [
    {
     "data": {
      "text/plain": [
       "AdaBoostRegressor(random_state=100)"
      ]
     },
     "execution_count": 18,
     "metadata": {},
     "output_type": "execute_result"
    }
   ],
   "source": [
    "clf.best_estimator_"
   ]
  },
  {
   "cell_type": "code",
   "execution_count": 19,
   "metadata": {},
   "outputs": [
    {
     "data": {
      "text/plain": [
       "0.5935082523968128"
      ]
     },
     "execution_count": 19,
     "metadata": {},
     "output_type": "execute_result"
    }
   ],
   "source": [
    "clf.best_score_"
   ]
  },
  {
   "cell_type": "code",
   "execution_count": 20,
   "metadata": {},
   "outputs": [
    {
     "data": {
      "text/plain": [
       "(0.6099025347561622, 0.6002496871174363)"
      ]
     },
     "execution_count": 20,
     "metadata": {},
     "output_type": "execute_result"
    }
   ],
   "source": [
    "rfr = AdaBoostRegressor(random_state=100)\n",
    "rfr.fit(X_train, y_train)\n",
    "y_pred = rfr.predict(X_test)\n",
    "y_pred_train = rfr.predict(X_train)\n",
    "acc_test = r2_score(y_test, y_pred)\n",
    "acc_train = r2_score(y_train, y_pred_train)\n",
    "acc_test, acc_train"
   ]
  },
  {
   "cell_type": "markdown",
   "metadata": {},
   "source": [
    "AdaBoostRegressor: 0.6099025347561622, 0.6002496871174363"
   ]
  },
  {
   "cell_type": "markdown",
   "metadata": {},
   "source": [
    "### Вывод: использовать Случайный лес, с параметрами max_depth=5, max_features=8, n_estimators=50"
   ]
  },
  {
   "cell_type": "code",
   "execution_count": null,
   "metadata": {},
   "outputs": [],
   "source": []
  }
 ],
 "metadata": {
  "kernelspec": {
   "display_name": "Python 3",
   "language": "python",
   "name": "python3"
  },
  "language_info": {
   "codemirror_mode": {
    "name": "ipython",
    "version": 3
   },
   "file_extension": ".py",
   "mimetype": "text/x-python",
   "name": "python",
   "nbconvert_exporter": "python",
   "pygments_lexer": "ipython3",
   "version": "3.8.5"
  }
 },
 "nbformat": 4,
 "nbformat_minor": 4
}
